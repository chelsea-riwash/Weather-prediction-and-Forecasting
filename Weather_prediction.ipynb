{
  "nbformat": 4,
  "nbformat_minor": 0,
  "metadata": {
    "colab": {
      "provenance": [],
      "mount_file_id": "1fO7jSuI6uV_Bwomw3vEI7X5Ib5MFUtbt",
      "authorship_tag": "ABX9TyOMAA/3AEOfekYAppxUVcmm",
      "include_colab_link": true
    },
    "kernelspec": {
      "name": "python3",
      "display_name": "Python 3"
    },
    "language_info": {
      "name": "python"
    }
  },
  "cells": [
    {
      "cell_type": "markdown",
      "metadata": {
        "id": "view-in-github",
        "colab_type": "text"
      },
      "source": [
        "<a href=\"https://colab.research.google.com/github/chelsea-riwash/Weather-prediction-and-Forecasting/blob/main/Weather_prediction.ipynb\" target=\"_parent\"><img src=\"https://colab.research.google.com/assets/colab-badge.svg\" alt=\"Open In Colab\"/></a>"
      ]
    },
    {
      "cell_type": "code",
      "execution_count": 26,
      "metadata": {
        "id": "46Tp5Evi3EDO"
      },
      "outputs": [],
      "source": [
        "import requests\n",
        "import pandas as pd\n",
        "import numpy as np\n",
        "from sklearn.model_selection import train_test_split\n",
        "from sklearn.preprocessing import LabelEncoder #To convert catagorical data into numerical values\n",
        "from sklearn.ensemble import RandomForestClassifier, RandomForestRegressor #model for classification and regression\n",
        "from sklearn.metrics import mean_squared_error #to measure accuracy of our prediction\n",
        "from datetime import datetime, timedelta #to handle date and time\n",
        "import pytz"
      ]
    },
    {
      "cell_type": "code",
      "source": [
        "API_KEY = '3e961e4f5b93c760b8d1eaecce7ac543'\n",
        "BASE_URL = 'https://api.openweathermap.org/data/2.5/'"
      ],
      "metadata": {
        "id": "4z9TVDAR_RTK"
      },
      "execution_count": 27,
      "outputs": []
    },
    {
      "cell_type": "markdown",
      "source": [
        "**1. Fetch Current Weather Data**"
      ],
      "metadata": {
        "id": "jJD_xlam_v_w"
      }
    },
    {
      "cell_type": "code",
      "source": [
        "def get_current_weather(city):\n",
        "    # Make the API call using the city name\n",
        "    response = requests.get(f\"{BASE_URL}weather?q={city}&appid={API_KEY}&units=metric\")\n",
        "\n",
        "    # Parse the response data\n",
        "    data = response.json()\n",
        "\n",
        "    if response.status_code == 200:\n",
        "        # Parse the relevant data from the response\n",
        "        weather_data = {\n",
        "            'temp_min': data['main']['temp_min'],\n",
        "            'temp_max': data['main']['temp_max'],\n",
        "            'current_temp': data['main']['temp'],\n",
        "            'feels_like': data['main']['feels_like'],\n",
        "            'humidity': data['main']['humidity'],\n",
        "            'pressure': data['main']['pressure'],\n",
        "            'wind_gust_dir': data['wind']['deg'],\n",
        "            'Wind_Gust_Speed': data['wind']['speed'],\n",
        "            'description': data['weather'][0]['description'],\n",
        "            'country': data['sys']['country'],\n",
        "        }\n",
        "        return weather_data\n",
        "    else:\n",
        "        print(f\"Error: {data['message']}\")\n",
        "        return None"
      ],
      "metadata": {
        "id": "yeoBdY5V_0eB"
      },
      "execution_count": 28,
      "outputs": []
    },
    {
      "cell_type": "markdown",
      "source": [
        "**2. Read Historical Data**"
      ],
      "metadata": {
        "id": "K6k3iefCCN7D"
      }
    },
    {
      "cell_type": "code",
      "source": [
        "def read_historical_data(filename):\n",
        "  df = pd.read_csv(filename)\n",
        "  df = df.dropna()\n",
        "  df = df.drop_duplicates()\n",
        "  return df"
      ],
      "metadata": {
        "id": "Dw9dufnoCTGr"
      },
      "execution_count": 29,
      "outputs": []
    },
    {
      "cell_type": "markdown",
      "source": [
        "**3. Prepare data for training**\n"
      ],
      "metadata": {
        "id": "-FqdJwc1DQTK"
      }
    },
    {
      "cell_type": "code",
      "source": [
        "def prepare_data(data):\n",
        "  le = LabelEncoder()\n",
        "  data['WindGustDir'] = le.fit_transform(data['WindGustDir'])\n",
        "  data['RainTomorrow'] = le.fit_transform(data['RainTomorrow'])\n",
        "\n",
        "#feature variable and target variables\n",
        "  X = data[['MinTemp','MaxTemp','WindGustDir','WindGustSpeed','Humidity','Pressure','Temp']] #feature variables\n",
        "  y = data['RainTomorrow'] #target variable\n",
        "\n",
        "  return X,y,le"
      ],
      "metadata": {
        "id": "f0OQvzAmDX3h"
      },
      "execution_count": 30,
      "outputs": []
    },
    {
      "cell_type": "markdown",
      "source": [
        "**4. Train Rain Prediction Model**"
      ],
      "metadata": {
        "id": "DopqmOEFTlNy"
      }
    },
    {
      "cell_type": "code",
      "source": [
        "def train_rain_model(X, y):\n",
        "  X_train, X_test, y_train, y_test = train_test_split(X,y,test_size=0.2,random_state=42)\n",
        "  model = RandomForestClassifier(n_estimators=100, random_state=42)\n",
        "  model.fit(X_train, y_train) #train the model\n",
        "\n",
        "  y_pred = model.predict(X_test) #to make predictions on test set\n",
        "\n",
        "  print(mean_squared_error(y_test, y_pred))\n",
        "\n",
        "  return model"
      ],
      "metadata": {
        "id": "2wOICPcoTp0i"
      },
      "execution_count": 31,
      "outputs": []
    },
    {
      "cell_type": "markdown",
      "source": [
        "**5. Prepare regression data**"
      ],
      "metadata": {
        "id": "gncCZfV_Uydd"
      }
    },
    {
      "cell_type": "code",
      "source": [
        "def prepare_regression_data(data, feature):\n",
        "  X, y = [],[] #initialize list for feature and target values\n",
        "\n",
        "  for i in range(len(data) - 1):\n",
        "    X.append(data[feature].iloc[i])\n",
        "    y.append(data[feature].iloc[i+1])\n",
        "\n",
        "  X=np.array(X).reshape(-1,1)\n",
        "  y = np.array(y)\n",
        "  return X, y"
      ],
      "metadata": {
        "id": "ugNtjrq-U4J0"
      },
      "execution_count": 32,
      "outputs": []
    },
    {
      "cell_type": "markdown",
      "source": [
        "**6. Train Regression Model**"
      ],
      "metadata": {
        "id": "BPeB8Q7KWNGV"
      }
    },
    {
      "cell_type": "code",
      "source": [
        "def train_regression_model(X,y):\n",
        "  model = RandomForestRegressor(n_estimators=100, random_state=42)\n",
        "  model.fit(X,y)\n",
        "  return model"
      ],
      "metadata": {
        "id": "kRF3w6PVWSEz"
      },
      "execution_count": 33,
      "outputs": []
    },
    {
      "cell_type": "markdown",
      "source": [
        "**7. Predict Future**"
      ],
      "metadata": {
        "id": "JMBPt8RYXFf9"
      }
    },
    {
      "cell_type": "code",
      "source": [
        "def predict_future(model, current_value):\n",
        "  predictions = [current_value]\n",
        "\n",
        "  for i in range(5):\n",
        "    next_value = model.predict(np.array([[predictions[-1]]]))\n",
        "\n",
        "    predictions.append(next_value[0])\n",
        "\n",
        "  return predictions[1:]"
      ],
      "metadata": {
        "id": "RWwMMz6XXI1b"
      },
      "execution_count": 34,
      "outputs": []
    },
    {
      "cell_type": "markdown",
      "source": [
        "**8. Weather Analysis Function**"
      ],
      "metadata": {
        "id": "ciqvKwLuXzA0"
      }
    },
    {
      "cell_type": "code",
      "source": [
        "def weather_view():\n",
        "  city = input('Enter any city name: ')\n",
        "  current_weather = get_current_weather(city)\n",
        "\n",
        "  #load historical data\n",
        "  historical_data = read_historical_data('/content/weather.csv')\n",
        "\n",
        "  #prepare and train the rain prediction model\n",
        "\n",
        "  X, y, le = prepare_data(historical_data)\n",
        "  rain_model = train_rain_model(X, y)\n",
        "\n",
        "  #map wind direction to compass points\n",
        "  wind_deg = current_weather['wind_gust_dir'] % 360\n",
        "  compass_points = [\n",
        "        (\"N\", 0, 22.5),\n",
        "        (\"NNE\", 22.5, 45),\n",
        "        (\"NE\", 45, 67.5),\n",
        "        (\"ENE\", 67.5, 90),\n",
        "        (\"E\", 90, 112.5),\n",
        "        (\"ESE\", 112.5, 135),\n",
        "        (\"SE\", 135, 157.5),\n",
        "        (\"SSE\", 157.5, 180),\n",
        "        (\"S\", 180, 202.5),\n",
        "        (\"SSW\", 202.5, 225),\n",
        "        (\"SW\", 225, 247.5),\n",
        "        (\"WSW\", 247.5, 270),\n",
        "        (\"W\", 270, 292.5),\n",
        "        (\"WNW\", 292.5, 315),\n",
        "        (\"NW\", 315, 337.5),\n",
        "        (\"NNW\", 337.5, 360)\n",
        "    ]\n",
        "  compass_direction = next(point for point, start, end in compass_points if start <= wind_deg <end)\n",
        "\n",
        "  compass_direction_encoded = le.transform([compass_direction])[0] if compass_direction in le.classes_ else -1\n",
        "\n",
        "  current_data = {\n",
        "      'MinTemp':current_weather['temp_min'],\n",
        "      'MaxTemp':current_weather['temp_max'],\n",
        "      'WindGustDir': compass_direction_encoded,\n",
        "      'WindGustSpeed': current_weather['Wind_Gust_Speed'],\n",
        "      'Humidity': current_weather['humidity'],\n",
        "      'Pressure': current_weather['pressure'],\n",
        "      'Temp':  current_weather['current_temp'],\n",
        "  }\n",
        "\n",
        "  current_df = pd.DataFrame([current_data])\n",
        "\n",
        "  #rain prediction\n",
        "\n",
        "  rain_prediction = rain_model.predict(current_df)[0]\n",
        "\n",
        "  #prepare regression model for temperature and humidity\n",
        "  X_temp, y_temp = prepare_regression_data(historical_data, 'Temp')\n",
        "\n",
        "  X_hum, y_hum = prepare_regression_data(historical_data, 'Humidity')\n",
        "\n",
        "  temp_model = train_regression_model(X_temp, y_temp)\n",
        "\n",
        "  hum_model = train_regression_model(X_hum, y_hum)\n",
        "\n",
        "  #predict future temperature and humidity\n",
        "  future_temp = predict_future(temp_model, current_weather['temp_min'])\n",
        "  future_humidity = predict_future(hum_model, current_weather['humidity'])\n",
        "  timezone = pytz.timezone('Asia/Kathmandu')\n",
        "  now = datetime.now(timezone)\n",
        "  next_hour = now + timedelta(hours=1)\n",
        "  next_hour = next_hour.replace(minute=0, second=0, microsecond=0)\n",
        "\n",
        "  future_times = [(next_hour + timedelta(hours=i)).strftime(\"%H:00\") for i in range(5)]\n",
        "\n",
        "  #Display Results\n",
        "  print(f\"City: {city}, {current_weather['country']}\")\n",
        "  print(f\"Current Temperature: {current_weather['current_temp']}\")\n",
        "  print(f\"Feels Like: {current_weather['feels_like']}\")\n",
        "  print(f\"Minimum Temperature: {current_weather['temp_min']}°C\")\n",
        "  print(f\"Maximum Temperature: {current_weather['temp_max']}°C\")\n",
        "  print(f\"Humidity: {current_weather['humidity']}%\")\n",
        "  print(f\"Weather Prediction: {current_weather['description']}\")\n",
        "  print(f\"Rain Prediction: {'Yes' if rain_prediction else 'No'}\")\n",
        "\n",
        "  print(\"\\nFuture Temperature Prediction:\")\n",
        "\n",
        "  for time, temp in zip(future_times, future_temp):\n",
        "    print(f\"{time}: {round(temp, 1)}°C\")\n",
        "\n",
        "  print(\"\\nFuture Humidity Prediction:\")\n",
        "  for time, humidity in zip(future_times, future_humidity):\n",
        "    print(f\"{time}: {round(humidity, 1)}%\")\n",
        "\n",
        "weather_view()"
      ],
      "metadata": {
        "colab": {
          "base_uri": "https://localhost:8080/"
        },
        "id": "hlgUE1fKX2gS",
        "outputId": "97d9176b-6322-4d47-be54-f3421646f57c"
      },
      "execution_count": 39,
      "outputs": [
        {
          "output_type": "stream",
          "name": "stdout",
          "text": [
            "Enter any city name: nepalgunj\n",
            "0.1506849315068493\n",
            "City: nepalgunj, NP\n",
            "Current Temperature: 21.26\n",
            "Feels Like: 20.02\n",
            "Minimum Temperature: 21.26°C\n",
            "Maximum Temperature: 21.26°C\n",
            "Humidity: 22%\n",
            "Weather Prediction: clear sky\n",
            "Rain Prediction: No\n",
            "\n",
            "Future Temperature Prediction:\n",
            "11:00: 20.5°C\n",
            "12:00: 22.2°C\n",
            "13:00: 22.7°C\n",
            "14:00: 25.0°C\n",
            "15:00: 26.7°C\n",
            "\n",
            "Future Humidity Prediction:\n",
            "11:00: 35.1%\n",
            "12:00: 38.4%\n",
            "13:00: 52.3%\n",
            "14:00: 43.4%\n",
            "15:00: 46.8%\n"
          ]
        }
      ]
    },
    {
      "cell_type": "markdown",
      "source": [],
      "metadata": {
        "id": "juC4aoPqhoRK"
      }
    }
  ]
}